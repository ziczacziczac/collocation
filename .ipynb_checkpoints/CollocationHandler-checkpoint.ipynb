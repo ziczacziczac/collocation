{
 "cells": [
  {
   "cell_type": "code",
   "execution_count": 31,
   "metadata": {},
   "outputs": [],
   "source": [
    "import pandas as pd\n",
    "from scipy.stats import spearmanr\n",
    "import matplotlib.pyplot as plt\n",
    "import numpy as np"
   ]
  },
  {
   "cell_type": "code",
   "execution_count": 156,
   "metadata": {},
   "outputs": [],
   "source": [
    "#Read collocation mesuares and replace unsuccess collocation to NaN\n",
    "df = pd.read_csv(\"C:\\\\Users\\\\ADMIN\\\\Desktop\\\\COLLOCATION\\\\collocation-tokenized\\\\cands-bi-value.csv\", encoding = 'utf-8')\n",
    "df = df.replace(0, np.nan)"
   ]
  },
  {
   "cell_type": "code",
   "execution_count": 187,
   "metadata": {},
   "outputs": [
    {
     "data": {
      "text/html": [
       "<div>\n",
       "<style scoped>\n",
       "    .dataframe tbody tr th:only-of-type {\n",
       "        vertical-align: middle;\n",
       "    }\n",
       "\n",
       "    .dataframe tbody tr th {\n",
       "        vertical-align: top;\n",
       "    }\n",
       "\n",
       "    .dataframe thead th {\n",
       "        text-align: right;\n",
       "    }\n",
       "</style>\n",
       "<table border=\"1\" class=\"dataframe\">\n",
       "  <thead>\n",
       "    <tr style=\"text-align: right;\">\n",
       "      <th></th>\n",
       "      <th>collocation</th>\n",
       "      <th>mle</th>\n",
       "      <th>pmi</th>\n",
       "      <th>tscore</th>\n",
       "      <th>dice</th>\n",
       "      <th>ll</th>\n",
       "    </tr>\n",
       "  </thead>\n",
       "  <tbody>\n",
       "    <tr>\n",
       "      <td>0</td>\n",
       "      <td>phương_diện y_khoa</td>\n",
       "      <td>0.000030</td>\n",
       "      <td>19.212359</td>\n",
       "      <td>2.475015</td>\n",
       "      <td>0.150943</td>\n",
       "      <td>6.629090e+06</td>\n",
       "    </tr>\n",
       "    <tr>\n",
       "      <td>1</td>\n",
       "      <td>điện sinh_lý</td>\n",
       "      <td>0.000290</td>\n",
       "      <td>14.234422</td>\n",
       "      <td>8.664248</td>\n",
       "      <td>0.020346</td>\n",
       "      <td>6.629147e+06</td>\n",
       "    </tr>\n",
       "    <tr>\n",
       "      <td>2</td>\n",
       "      <td>the day</td>\n",
       "      <td>0.000041</td>\n",
       "      <td>20.614264</td>\n",
       "      <td>3.015193</td>\n",
       "      <td>0.314286</td>\n",
       "      <td>6.629165e+06</td>\n",
       "    </tr>\n",
       "    <tr>\n",
       "      <td>3</td>\n",
       "      <td>loạn_thị giác</td>\n",
       "      <td>0.000109</td>\n",
       "      <td>21.149300</td>\n",
       "      <td>5.199522</td>\n",
       "      <td>0.773333</td>\n",
       "      <td>NaN</td>\n",
       "    </tr>\n",
       "    <tr>\n",
       "      <td>4</td>\n",
       "      <td>môi thâm</td>\n",
       "      <td>0.000226</td>\n",
       "      <td>19.850017</td>\n",
       "      <td>7.616965</td>\n",
       "      <td>0.594059</td>\n",
       "      <td>6.629853e+06</td>\n",
       "    </tr>\n",
       "  </tbody>\n",
       "</table>\n",
       "</div>"
      ],
      "text/plain": [
       "          collocation       mle        pmi    tscore      dice            ll\n",
       "0  phương_diện y_khoa  0.000030  19.212359  2.475015  0.150943  6.629090e+06\n",
       "1        điện sinh_lý  0.000290  14.234422  8.664248  0.020346  6.629147e+06\n",
       "2             the day  0.000041  20.614264  3.015193  0.314286  6.629165e+06\n",
       "3       loạn_thị giác  0.000109  21.149300  5.199522  0.773333           NaN\n",
       "4            môi thâm  0.000226  19.850017  7.616965  0.594059  6.629853e+06"
      ]
     },
     "execution_count": 187,
     "metadata": {},
     "output_type": "execute_result"
    }
   ],
   "source": [
    "df.head()"
   ]
  },
  {
   "cell_type": "code",
   "execution_count": 192,
   "metadata": {},
   "outputs": [],
   "source": [
    "df_rank = pd.DataFrame()"
   ]
  },
  {
   "cell_type": "code",
   "execution_count": 193,
   "metadata": {},
   "outputs": [],
   "source": [
    "df_rank[\"mle_rank\"] = df[\"mle\"].rank(method = 'max', na_option = \"keep\")\n",
    "df_rank[\"pmi_rank\"] = df[\"pmi\"].rank(method = 'max', na_option = \"keep\")\n",
    "df_rank[\"tscore_rank\"] = df[\"tscore\"].rank(method = 'max', na_option = \"keep\")\n",
    "df_rank[\"dice_rank\"] = df[\"dice\"].rank(method = 'max', na_option = \"keep\")\n",
    "df_rank[\"ll_rank\"] = df[\"ll\"].rank(method = 'max', na_option = \"keep\")\n",
    "df_rank = df_rank.replace(np.nan, 0)"
   ]
  },
  {
   "cell_type": "code",
   "execution_count": 194,
   "metadata": {},
   "outputs": [
    {
     "data": {
      "text/html": [
       "<div>\n",
       "<style scoped>\n",
       "    .dataframe tbody tr th:only-of-type {\n",
       "        vertical-align: middle;\n",
       "    }\n",
       "\n",
       "    .dataframe tbody tr th {\n",
       "        vertical-align: top;\n",
       "    }\n",
       "\n",
       "    .dataframe thead th {\n",
       "        text-align: right;\n",
       "    }\n",
       "</style>\n",
       "<table border=\"1\" class=\"dataframe\">\n",
       "  <thead>\n",
       "    <tr style=\"text-align: right;\">\n",
       "      <th></th>\n",
       "      <th>mle_rank</th>\n",
       "      <th>pmi_rank</th>\n",
       "      <th>tscore_rank</th>\n",
       "      <th>dice_rank</th>\n",
       "      <th>ll_rank</th>\n",
       "    </tr>\n",
       "  </thead>\n",
       "  <tbody>\n",
       "    <tr>\n",
       "      <td>0</td>\n",
       "      <td>1122.0</td>\n",
       "      <td>2622.0</td>\n",
       "      <td>981.0</td>\n",
       "      <td>2296.0</td>\n",
       "      <td>1135.0</td>\n",
       "    </tr>\n",
       "    <tr>\n",
       "      <td>1</td>\n",
       "      <td>3028.0</td>\n",
       "      <td>155.0</td>\n",
       "      <td>3028.0</td>\n",
       "      <td>701.0</td>\n",
       "      <td>1444.0</td>\n",
       "    </tr>\n",
       "    <tr>\n",
       "      <td>2</td>\n",
       "      <td>1535.0</td>\n",
       "      <td>3114.0</td>\n",
       "      <td>1443.0</td>\n",
       "      <td>2792.0</td>\n",
       "      <td>1505.0</td>\n",
       "    </tr>\n",
       "    <tr>\n",
       "      <td>3</td>\n",
       "      <td>2475.0</td>\n",
       "      <td>3245.0</td>\n",
       "      <td>2443.0</td>\n",
       "      <td>3254.0</td>\n",
       "      <td>0.0</td>\n",
       "    </tr>\n",
       "    <tr>\n",
       "      <td>4</td>\n",
       "      <td>2906.0</td>\n",
       "      <td>2891.0</td>\n",
       "      <td>2898.0</td>\n",
       "      <td>3127.0</td>\n",
       "      <td>2085.0</td>\n",
       "    </tr>\n",
       "  </tbody>\n",
       "</table>\n",
       "</div>"
      ],
      "text/plain": [
       "   mle_rank  pmi_rank  tscore_rank  dice_rank  ll_rank\n",
       "0    1122.0    2622.0        981.0     2296.0   1135.0\n",
       "1    3028.0     155.0       3028.0      701.0   1444.0\n",
       "2    1535.0    3114.0       1443.0     2792.0   1505.0\n",
       "3    2475.0    3245.0       2443.0     3254.0      0.0\n",
       "4    2906.0    2891.0       2898.0     3127.0   2085.0"
      ]
     },
     "execution_count": 194,
     "metadata": {},
     "output_type": "execute_result"
    }
   ],
   "source": [
    "df_rank.head()"
   ]
  },
  {
   "cell_type": "code",
   "execution_count": 195,
   "metadata": {},
   "outputs": [],
   "source": [
    "rho, pval = spearmanr(df_rank.values)"
   ]
  },
  {
   "cell_type": "code",
   "execution_count": 196,
   "metadata": {},
   "outputs": [
    {
     "data": {
      "text/plain": [
       "(3453, 5)"
      ]
     },
     "execution_count": 196,
     "metadata": {},
     "output_type": "execute_result"
    }
   ],
   "source": [
    "df_rank.shape"
   ]
  },
  {
   "cell_type": "code",
   "execution_count": 197,
   "metadata": {},
   "outputs": [
    {
     "data": {
      "image/png": "[encoded data removed]",
      "text/plain": [
       "<Figure size 432x288 with 1 Axes>"
      ]
     },
     "metadata": {
      "needs_background": "light"
     },
     "output_type": "display_data"
    }
   ],
   "source": [
    "mesuares = [\"mle\", \"pmi\", \"tsocre\", \"dice\", \"ll\"]\n",
    "plt.imshow(rho, cmap='hot', interpolation='nearest')\n",
    "plt.xticks(range(len(mesuares)), mesuares)\n",
    "plt.yticks(range(len(mesuares)), mesuares)\n",
    "plt.show()"
   ]
  },
  {
   "cell_type": "code",
   "execution_count": 198,
   "metadata": {},
   "outputs": [],
   "source": [
    "mle_cof = 1\n",
    "pmi_cof = 1\n",
    "tscore_cof = 1\n",
    "dice_cof = 1\n",
    "ll_cof = 1"
   ]
  },
  {
   "cell_type": "code",
   "execution_count": 199,
   "metadata": {},
   "outputs": [
    {
     "name": "stderr",
     "output_type": "stream",
     "text": [
      "C:\\Users\\ADMIN\\Anaconda3\\lib\\site-packages\\ipykernel_launcher.py:1: RuntimeWarning: invalid value encountered in greater\n",
      "  \"\"\"Entry point for launching an IPython kernel.\n"
     ]
    }
   ],
   "source": [
    "matrix_bool = np.matrix(df.loc[:, [\"mle\", \"pmi\", \"tscore\", \"dice\", \"ll\"]].values > 0)\n",
    "success_full_collocation = np.squeeze(np.asarray(matrix_bool.sum(axis = 1)))"
   ]
  },
  {
   "cell_type": "code",
   "execution_count": 200,
   "metadata": {},
   "outputs": [],
   "source": [
    "df_rank[\"rank_av\"] = (df_rank[\"mle_rank\"] + df_rank[\"pmi_rank\"] + df_rank[\"tscore_rank\"] + df_rank[\"dice_rank\"] + df_rank[\"ll_rank\"]) / success_full_collocation\n",
    "df_rank[\"rank_nor\"] = df_rank[\"rank_av\"] * np.log2(1 + 4/success_full_collocation)\n",
    "df_rank[\"rank_opt\"] = (mle_cof * df_rank[\"mle_rank\"] \n",
    "                       + pmi_cof * df_rank[\"pmi_rank\"] \n",
    "                       + tscore_cof * df_rank[\"tscore_rank\"] \n",
    "                       + dice_cof  * df_rank[\"dice_rank\"] \n",
    "                       + ll_cof * df_rank[\"ll_rank\"]) / success_full_collocation"
   ]
  },
  {
   "cell_type": "code",
   "execution_count": 201,
   "metadata": {},
   "outputs": [],
   "source": [
    "df_rank.insert(loc=0, column='collocation', value=df[\"collocation\"])"
   ]
  },
  {
   "cell_type": "code",
   "execution_count": 202,
   "metadata": {},
   "outputs": [
    {
     "data": {
      "text/html": [
       "<div>\n",
       "<style scoped>\n",
       "    .dataframe tbody tr th:only-of-type {\n",
       "        vertical-align: middle;\n",
       "    }\n",
       "\n",
       "    .dataframe tbody tr th {\n",
       "        vertical-align: top;\n",
       "    }\n",
       "\n",
       "    .dataframe thead th {\n",
       "        text-align: right;\n",
       "    }\n",
       "</style>\n",
       "<table border=\"1\" class=\"dataframe\">\n",
       "  <thead>\n",
       "    <tr style=\"text-align: right;\">\n",
       "      <th></th>\n",
       "      <th>collocation</th>\n",
       "      <th>mle_rank</th>\n",
       "      <th>pmi_rank</th>\n",
       "      <th>tscore_rank</th>\n",
       "      <th>dice_rank</th>\n",
       "      <th>ll_rank</th>\n",
       "      <th>rank_av</th>\n",
       "      <th>rank_nor</th>\n",
       "      <th>rank_opt</th>\n",
       "    </tr>\n",
       "  </thead>\n",
       "  <tbody>\n",
       "    <tr>\n",
       "      <td>0</td>\n",
       "      <td>phương_diện y_khoa</td>\n",
       "      <td>1122.0</td>\n",
       "      <td>2622.0</td>\n",
       "      <td>981.0</td>\n",
       "      <td>2296.0</td>\n",
       "      <td>1135.0</td>\n",
       "      <td>1631.20</td>\n",
       "      <td>1383.252554</td>\n",
       "      <td>1631.20</td>\n",
       "    </tr>\n",
       "    <tr>\n",
       "      <td>1</td>\n",
       "      <td>điện sinh_lý</td>\n",
       "      <td>3028.0</td>\n",
       "      <td>155.0</td>\n",
       "      <td>3028.0</td>\n",
       "      <td>701.0</td>\n",
       "      <td>1444.0</td>\n",
       "      <td>1671.20</td>\n",
       "      <td>1417.172430</td>\n",
       "      <td>1671.20</td>\n",
       "    </tr>\n",
       "    <tr>\n",
       "      <td>2</td>\n",
       "      <td>the day</td>\n",
       "      <td>1535.0</td>\n",
       "      <td>3114.0</td>\n",
       "      <td>1443.0</td>\n",
       "      <td>2792.0</td>\n",
       "      <td>1505.0</td>\n",
       "      <td>2077.80</td>\n",
       "      <td>1761.967972</td>\n",
       "      <td>2077.80</td>\n",
       "    </tr>\n",
       "    <tr>\n",
       "      <td>3</td>\n",
       "      <td>loạn_thị giác</td>\n",
       "      <td>2475.0</td>\n",
       "      <td>3245.0</td>\n",
       "      <td>2443.0</td>\n",
       "      <td>3254.0</td>\n",
       "      <td>0.0</td>\n",
       "      <td>2854.25</td>\n",
       "      <td>2854.250000</td>\n",
       "      <td>2854.25</td>\n",
       "    </tr>\n",
       "    <tr>\n",
       "      <td>4</td>\n",
       "      <td>môi thâm</td>\n",
       "      <td>2906.0</td>\n",
       "      <td>2891.0</td>\n",
       "      <td>2898.0</td>\n",
       "      <td>3127.0</td>\n",
       "      <td>2085.0</td>\n",
       "      <td>2781.40</td>\n",
       "      <td>2358.618596</td>\n",
       "      <td>2781.40</td>\n",
       "    </tr>\n",
       "  </tbody>\n",
       "</table>\n",
       "</div>"
      ],
      "text/plain": [
       "          collocation  mle_rank  pmi_rank  tscore_rank  dice_rank  ll_rank  \\\n",
       "0  phương_diện y_khoa    1122.0    2622.0        981.0     2296.0   1135.0   \n",
       "1        điện sinh_lý    3028.0     155.0       3028.0      701.0   1444.0   \n",
       "2             the day    1535.0    3114.0       1443.0     2792.0   1505.0   \n",
       "3       loạn_thị giác    2475.0    3245.0       2443.0     3254.0      0.0   \n",
       "4            môi thâm    2906.0    2891.0       2898.0     3127.0   2085.0   \n",
       "\n",
       "   rank_av     rank_nor  rank_opt  \n",
       "0  1631.20  1383.252554   1631.20  \n",
       "1  1671.20  1417.172430   1671.20  \n",
       "2  2077.80  1761.967972   2077.80  \n",
       "3  2854.25  2854.250000   2854.25  \n",
       "4  2781.40  2358.618596   2781.40  "
      ]
     },
     "execution_count": 202,
     "metadata": {},
     "output_type": "execute_result"
    }
   ],
   "source": [
    "df_rank.head()"
   ]
  },
  {
   "cell_type": "code",
   "execution_count": 205,
   "metadata": {},
   "outputs": [],
   "source": [
    "df_rank.to_csv(\"collocation_rank.csv\", sep = \",\", index=False)"
   ]
  },
  {
   "cell_type": "code",
   "execution_count": 141,
   "metadata": {},
   "outputs": [],
   "source": [
    "test = pd.DataFrame([1, 2, 3], columns = [\"abc\"])"
   ]
  },
  {
   "cell_type": "code",
   "execution_count": 145,
   "metadata": {},
   "outputs": [],
   "source": [
    "test = test.replace(1, np.nan)"
   ]
  },
  {
   "cell_type": "code",
   "execution_count": 151,
   "metadata": {},
   "outputs": [
    {
     "data": {
      "text/plain": [
       "0    NaN\n",
       "1    1.0\n",
       "2    2.0\n",
       "Name: abc, dtype: float64"
      ]
     },
     "execution_count": 151,
     "metadata": {},
     "output_type": "execute_result"
    }
   ],
   "source": [
    "test[\"abc\"].rank(na_option = \"keep\")"
   ]
  },
  {
   "cell_type": "code",
   "execution_count": 152,
   "metadata": {},
   "outputs": [
    {
     "data": {
      "text/html": [
       "<div>\n",
       "<style scoped>\n",
       "    .dataframe tbody tr th:only-of-type {\n",
       "        vertical-align: middle;\n",
       "    }\n",
       "\n",
       "    .dataframe tbody tr th {\n",
       "        vertical-align: top;\n",
       "    }\n",
       "\n",
       "    .dataframe thead th {\n",
       "        text-align: right;\n",
       "    }\n",
       "</style>\n",
       "<table border=\"1\" class=\"dataframe\">\n",
       "  <thead>\n",
       "    <tr style=\"text-align: right;\">\n",
       "      <th></th>\n",
       "      <th>abc</th>\n",
       "    </tr>\n",
       "  </thead>\n",
       "  <tbody>\n",
       "    <tr>\n",
       "      <td>0</td>\n",
       "      <td>NaN</td>\n",
       "    </tr>\n",
       "    <tr>\n",
       "      <td>1</td>\n",
       "      <td>2.0</td>\n",
       "    </tr>\n",
       "    <tr>\n",
       "      <td>2</td>\n",
       "      <td>3.0</td>\n",
       "    </tr>\n",
       "  </tbody>\n",
       "</table>\n",
       "</div>"
      ],
      "text/plain": [
       "   abc\n",
       "0  NaN\n",
       "1  2.0\n",
       "2  3.0"
      ]
     },
     "execution_count": 152,
     "metadata": {},
     "output_type": "execute_result"
    }
   ],
   "source": [
    "test"
   ]
  },
  {
   "cell_type": "code",
   "execution_count": 111,
   "metadata": {},
   "outputs": [
    {
     "ename": "AttributeError",
     "evalue": "'_iLocIndexer' object has no attribute 'values'",
     "output_type": "error",
     "traceback": [
      "\u001b[1;31m---------------------------------------------------------------------------\u001b[0m",
      "\u001b[1;31mAttributeError\u001b[0m                            Traceback (most recent call last)",
      "\u001b[1;32m<ipython-input-111-d658b9428272>\u001b[0m in \u001b[0;36m<module>\u001b[1;34m\u001b[0m\n\u001b[1;32m----> 1\u001b[1;33m \u001b[0mdf\u001b[0m\u001b[1;33m.\u001b[0m\u001b[0miloc\u001b[0m\u001b[1;33m(\u001b[0m\u001b[1;36m0\u001b[0m\u001b[1;33m)\u001b[0m\u001b[1;33m.\u001b[0m\u001b[0mvalues\u001b[0m\u001b[1;33m\u001b[0m\u001b[1;33m\u001b[0m\u001b[0m\n\u001b[0m",
      "\u001b[1;31mAttributeError\u001b[0m: '_iLocIndexer' object has no attribute 'values'"
     ]
    }
   ],
   "source": [
    "df.iloc(0).values"
   ]
  },
  {
   "cell_type": "code",
   "execution_count": 117,
   "metadata": {},
   "outputs": [
    {
     "data": {
      "text/plain": [
       "array([[ True,  True,  True,  True,  True],\n",
       "       [ True,  True,  True,  True,  True],\n",
       "       [ True,  True,  True,  True,  True],\n",
       "       ...,\n",
       "       [ True,  True,  True,  True,  True],\n",
       "       [ True,  True,  True,  True,  True],\n",
       "       [ True,  True,  True,  True,  True]])"
      ]
     },
     "execution_count": 117,
     "metadata": {},
     "output_type": "execute_result"
    }
   ],
   "source": [
    "df.loc[:, [\"mle\", \"pmi\", \"tscore\", \"dice\", \"ll\"]].values > 0"
   ]
  },
  {
   "cell_type": "code",
   "execution_count": 140,
   "metadata": {},
   "outputs": [],
   "source": [
    "matrix_bool = np.matrix(df.loc[:, [\"mle\", \"pmi\", \"tscore\", \"dice\", \"ll\"]].values > 0)\n",
    "success_full_collocation = np.squeeze(np.asarray(matrix_bool.sum(axis = 1)))"
   ]
  },
  {
   "cell_type": "code",
   "execution_count": 139,
   "metadata": {},
   "outputs": [
    {
     "data": {
      "text/plain": [
       "array([5, 5, 5, ..., 5, 5, 4])"
      ]
     },
     "execution_count": 139,
     "metadata": {},
     "output_type": "execute_result"
    }
   ],
   "source": [
    "np.squeeze(np.asarray(matrix_bool.sum(axis = 1)))"
   ]
  },
  {
   "cell_type": "code",
   "execution_count": 126,
   "metadata": {},
   "outputs": [
    {
     "data": {
      "text/plain": [
       "(array([   3,   10,   11, ..., 3439, 3448, 3452], dtype=int64),\n",
       " array([0, 0, 0, ..., 0, 0, 0], dtype=int64))"
      ]
     },
     "execution_count": 126,
     "metadata": {},
     "output_type": "execute_result"
    }
   ],
   "source": [
    "np.where(matrix_bool.sum(axis = 1) < 5)"
   ]
  },
  {
   "cell_type": "code",
   "execution_count": 167,
   "metadata": {},
   "outputs": [
    {
     "data": {
      "text/plain": [
       "array([5, 5, 5, ..., 5, 5, 4])"
      ]
     },
     "execution_count": 167,
     "metadata": {},
     "output_type": "execute_result"
    }
   ],
   "source": [
    "success_full_collocation"
   ]
  },
  {
   "cell_type": "code",
   "execution_count": 176,
   "metadata": {},
   "outputs": [
    {
     "data": {
      "text/plain": [
       "(array([], dtype=int64),)"
      ]
     },
     "execution_count": 176,
     "metadata": {},
     "output_type": "execute_result"
    }
   ],
   "source": [
    "np.where (np.log2( 1 + 4 /success_full_collocation) > 1)"
   ]
  },
  {
   "cell_type": "code",
   "execution_count": 177,
   "metadata": {},
   "outputs": [
    {
     "data": {
      "text/plain": [
       "4"
      ]
     },
     "execution_count": 177,
     "metadata": {},
     "output_type": "execute_result"
    }
   ],
   "source": [
    "np.amin(success_full_collocation)"
   ]
  },
  {
   "cell_type": "code",
   "execution_count": null,
   "metadata": {},
   "outputs": [],
   "source": []
  }
 ],
 "metadata": {
  "kernelspec": {
   "display_name": "Python 3",
   "language": "python",
   "name": "python3"
  },
  "language_info": {
   "codemirror_mode": {
    "name": "ipython",
    "version": 3
   },
   "file_extension": ".py",
   "mimetype": "text/x-python",
   "name": "python",
   "nbconvert_exporter": "python",
   "pygments_lexer": "ipython3",
   "version": "3.7.1"
  }
 },
 "nbformat": 4,
 "nbformat_minor": 2
}
